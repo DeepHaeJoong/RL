{
 "cells": [
  {
   "cell_type": "markdown",
   "metadata": {},
   "source": [
    "# 정리\n",
    "\n",
    "## MDP\n",
    "---\n",
    "\n",
    "\n",
    "순차적 행동결정 문제를 수학적으로 정의한 것, **MDP**는 다음과 같은 항목으로 구성하고 있다.\n",
    "\n",
    "- $S$ (state) : \n",
    "- $A$ (action) :\n",
    "- $R$ (reward) :\n",
    "- $P_{ss'}^{a}$ (state transition probability) :\n",
    "- $\\gamma$ (discount factor) : \n",
    "- $\\pi(a,s)$ (policy): "
   ]
  },
  {
   "cell_type": "markdown",
   "metadata": {},
   "source": [
    "## Value function\n",
    "---"
   ]
  },
  {
   "cell_type": "markdown",
   "metadata": {},
   "source": [
    "#### Agent가 어떤 $\\pi$(정책)가 더 좋은 정책인지 판단하는 기준이 value function\n",
    "#### **s**(현재 상태)로부터 $\\pi$(정책)을 따라갔을 때 받을 것이라 예상되는 Reward의 합"
   ]
  },
  {
   "cell_type": "markdown",
   "metadata": {},
   "source": [
    "$$\n",
    "\\mathbf{v}_\\pi(\\mathbf{s}) = \\mathbb{E}_\\pi[\\mathbf{R_{t+1}} + \\gamma \\mathbf{v}_\\pi(\\mathbf{S}_{t+1}) \\ | \\ \\mathbf{S}_{t} = \\mathbf{s}]\n",
    "$$"
   ]
  },
  {
   "cell_type": "markdown",
   "metadata": {},
   "source": [
    "####  Agent는 $\\pi$(정책)을 업데이트할 때 value function를 사용할 텐데, 보통 value function보다는 value function가 선택할 각 action의 value를 직접적으로 나타내는 q function을 사용"
   ]
  },
  {
   "cell_type": "markdown",
   "metadata": {},
   "source": [
    "$$\n",
    "\\mathbf{q}_\\pi(\\mathbf{s, a}) = \\mathbb{E}_\\pi[\\mathbf{R_{t+1}} + \\gamma \\mathbf{q}_\\pi(\\mathbf{S}_{t+1}, \\mathbf{A}_{t+1}) \\ | \\ \\mathbf{S}_{t} = \\mathbf{s}, \\mathbf{A}_{t} = \\mathbf{a}]\n",
    "$$"
   ]
  },
  {
   "cell_type": "markdown",
   "metadata": {},
   "source": [
    "## Bellman equation\n",
    "---\n",
    "\n",
    "> $\\mathbf{s}_t$(현재 상태)의 가치함수와 $\\mathbf{s}_{t+1}$(다음 상태)의 가치함수 관계식"
   ]
  },
  {
   "cell_type": "markdown",
   "metadata": {},
   "source": [
    "- **Bellman Expectation Equation** : \n",
    "> 특정 정책을 따라갔을 때 가치함수 사이의 관계식\n",
    ">\n",
    "$$\n",
    "\\mathbf{v}_\\pi(\\mathbf{s}) = \\mathbb{E}_\\pi[\\mathbf{R_{t+1}} + \\gamma \\mathbf{v}_\\pi(\\mathbf{S}_{t+1}) \\ | \\ \\mathbf{S}_{t} = \\mathbf{s}]\n",
    "$$"
   ]
  },
  {
   "cell_type": "markdown",
   "metadata": {},
   "source": [
    "- **Bellman Optimality Equation**\n",
    "> 최적의 가치함수를 받게하는 정책을 따라갔을 때 가치함수 사이의 관계식\n",
    ">\n",
    "\n",
    "$$\n",
    "\\mathbf{v}_*(\\mathbf{s}) = \\max_{a} \\ \\mathbb{E}_[\\mathbf{R_{t+1}} + \\gamma \\mathbf{v}_*(\\mathbf{S}_{t+1}) \\ | \\ \\mathbf{S}_{t} = \\mathbf{s}]\n",
    "$$"
   ]
  },
  {
   "cell_type": "markdown",
   "metadata": {},
   "source": [
    "## Dynamic Programming\n",
    "___\n",
    "\n",
    "- **Dynamic** : sequential or temporal component to the problem\n",
    "- **Programming** : optimising a “program”, i.e. a policy\n",
    "    - A method for solving complex problems\n",
    "    - By breaking them down into subproblems"
   ]
  },
  {
   "cell_type": "markdown",
   "metadata": {},
   "source": [
    "- Bellman Expectation Equation을 푸는 것이 Policy Iteration  \n",
    "- Bellman Optimality Equation을 푸는 것이 Value Iteration  "
   ]
  },
  {
   "cell_type": "code",
   "execution_count": null,
   "metadata": {},
   "outputs": [],
   "source": []
  },
  {
   "cell_type": "code",
   "execution_count": null,
   "metadata": {},
   "outputs": [],
   "source": []
  }
 ],
 "metadata": {
  "kernelspec": {
   "display_name": "Python 3",
   "language": "python",
   "name": "python3"
  },
  "language_info": {
   "codemirror_mode": {
    "name": "ipython",
    "version": 3
   },
   "file_extension": ".py",
   "mimetype": "text/x-python",
   "name": "python",
   "nbconvert_exporter": "python",
   "pygments_lexer": "ipython3",
   "version": "3.7.4"
  }
 },
 "nbformat": 4,
 "nbformat_minor": 2
}
